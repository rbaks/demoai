{
 "cells": [
  {
   "cell_type": "code",
   "execution_count": null,
   "metadata": {},
   "outputs": [],
   "source": [
    "%pip install -U diffusers transformers accelerate peft torch"
   ]
  },
  {
   "cell_type": "code",
   "execution_count": null,
   "metadata": {},
   "outputs": [],
   "source": [
    "from diffusers import StableDiffusionXLPipeline\n",
    "import torch"
   ]
  },
  {
   "cell_type": "code",
   "execution_count": null,
   "metadata": {},
   "outputs": [],
   "source": [
    "logo_pipe = StableDiffusionXLPipeline.from_pretrained(\n",
    "    \"stabilityai/stable-diffusion-xl-base-1.0\", torch_dtype=torch.float16, use_safetensors=True\n",
    ").to(\"cuda\")\n",
    "\n",
    "logo_pipe.load_lora_weights(\"artificialguybr/LogoRedmond-LogoLoraForSDXL-V2\", adapter_name=\"logo\")\n",
    "logo_pipe.enable_attention_slicing()"
   ]
  },
  {
   "cell_type": "code",
   "execution_count": null,
   "metadata": {},
   "outputs": [],
   "source": [
    "prompt = \"A circular logo of a strong man playing basketball, close up, detailed, vibrant and fun colors, LogoRedAF\"\n",
    "batch_size = 10\n",
    "negative_prompt = \"\"\n",
    "scheduler_name = \"EulerAncestralDiscreteScheduler\"\n",
    "num_inference_steps = 20\n",
    "guidance_scale = 5.0\n",
    "size = 512"
   ]
  },
  {
   "cell_type": "code",
   "execution_count": null,
   "metadata": {},
   "outputs": [],
   "source": [
    "from diffusers import (\n",
    "    EulerDiscreteScheduler,\n",
    "    EulerAncestralDiscreteScheduler,\n",
    ")\n",
    "\n",
    "def choose_scheduler(scheduler_name):\n",
    "    match scheduler_name:\n",
    "        case \"EulerDiscreteScheduler\":\n",
    "            return EulerDiscreteScheduler.from_config(logo_pipe.scheduler.config)\n",
    "        case \"EulerAncestralDiscreteScheduler\":\n",
    "            return EulerAncestralDiscreteScheduler.from_config(\n",
    "                logo_pipe.scheduler.config\n",
    "            )\n",
    "        case _:\n",
    "            raise Exception(\"Scheduler not supported\")()\n",
    "\n",
    "def run(\n",
    "    prompt,\n",
    "    batch_size,\n",
    "    negative_prompt,\n",
    "    scheduler_name,\n",
    "    num_inference_steps,\n",
    "    guidance_scale,\n",
    "    width,\n",
    "    height,\n",
    "):\n",
    "    generators = [torch.Generator(\"cuda\").manual_seed(i) for i in range(batch_size)]\n",
    "    prompts = [prompt] * batch_size\n",
    "    logo_pipe.scheduler = choose_scheduler(scheduler_name)\n",
    "\n",
    "    images = logo_pipe(\n",
    "        prompt=prompts,\n",
    "        generator=generators,\n",
    "        negative_prompt=negative_prompt,\n",
    "        num_inference_steps=num_inference_steps,\n",
    "        guidance_scale=guidance_scale,\n",
    "        width=width,\n",
    "        height=height,\n",
    "    ).images\n",
    "\n",
    "    return images"
   ]
  },
  {
   "cell_type": "code",
   "execution_count": null,
   "metadata": {},
   "outputs": [],
   "source": [
    "from diffusers.utils import make_image_grid\n",
    "\n",
    "images = run(prompt, batch_size, negative_prompt, scheduler_name, num_inference_steps, guidance_scale, size, size)\n",
    "make_image_grid(images, 2, 5)"
   ]
  },
  {
   "cell_type": "code",
   "execution_count": null,
   "metadata": {},
   "outputs": [],
   "source": []
  }
 ],
 "metadata": {
  "kernelspec": {
   "display_name": "cloudspace",
   "language": "python",
   "name": "python3"
  },
  "language_info": {
   "codemirror_mode": {
    "name": "ipython",
    "version": 3
   },
   "file_extension": ".py",
   "mimetype": "text/x-python",
   "name": "python",
   "nbconvert_exporter": "python",
   "pygments_lexer": "ipython3",
   "version": "3.10.10"
  }
 },
 "nbformat": 4,
 "nbformat_minor": 2
}
